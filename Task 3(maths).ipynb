{
 "cells": [
  {
   "cell_type": "markdown",
   "id": "b3326d88",
   "metadata": {},
   "source": [
    "1. Find Angle MBC"
   ]
  },
  {
   "cell_type": "code",
   "execution_count": 1,
   "id": "6a625fee",
   "metadata": {},
   "outputs": [
    {
     "name": "stdout",
     "output_type": "stream",
     "text": [
      "10\n",
      "10\n",
      "45°\n"
     ]
    }
   ],
   "source": [
    "import math\n",
    "AB=int(input())\n",
    "BC=int(input())\n",
    "print(round(math.degrees(math.atan(AB/BC))),chr(176),sep='')   "
   ]
  },
  {
   "cell_type": "markdown",
   "id": "c5675aa7",
   "metadata": {},
   "source": [
    "2. Triangle Quest 2"
   ]
  },
  {
   "cell_type": "code",
   "execution_count": 2,
   "id": "504d11b6",
   "metadata": {},
   "outputs": [
    {
     "name": "stdout",
     "output_type": "stream",
     "text": [
      "5\n",
      "1\n",
      "121\n",
      "12321\n",
      "1234321\n",
      "123454321\n"
     ]
    }
   ],
   "source": [
    "for i in range(1,int(input())+1):\n",
    "     print (((10**i - 1)//9)**2)"
   ]
  },
  {
   "cell_type": "markdown",
   "id": "5270de1e",
   "metadata": {},
   "source": [
    "3. Mod Divmod\n",
    "\n",
    "one of the built-in functions of Python is divmod, which takes two arguments a and b and returns a tuple containing the quotient of a/b first and then the remainder a ."
   ]
  },
  {
   "cell_type": "code",
   "execution_count": 4,
   "id": "0034c563",
   "metadata": {},
   "outputs": [
    {
     "name": "stdout",
     "output_type": "stream",
     "text": [
      "177\n",
      "10\n",
      "17\n",
      "7\n",
      "(17, 7)\n"
     ]
    }
   ],
   "source": [
    "a = int(input());\n",
    "b = int(input());\n",
    "print(a//b);\n",
    "print(a%b);\n",
    "print(divmod(a,b));"
   ]
  },
  {
   "cell_type": "markdown",
   "id": "2d262221",
   "metadata": {},
   "source": [
    "4. Power - Mod Power\n",
    "\n",
    "ou are given three integers:a ,b , and m . Print two lines.\n",
    "On the first line, print the result of pow(a,b). On the second line, print the result of pow(a,b,m)."
   ]
  },
  {
   "cell_type": "code",
   "execution_count": 7,
   "id": "61e7e6a0",
   "metadata": {},
   "outputs": [
    {
     "name": "stdout",
     "output_type": "stream",
     "text": [
      "3\n",
      "4\n",
      "5\n",
      "81\n",
      "1\n"
     ]
    }
   ],
   "source": [
    "a = int(input())\n",
    "b = int(input())\n",
    "m = int(input())\n",
    "\n",
    "print(pow(a,b))\n",
    "\n",
    "print(pow(a,b,m))"
   ]
  },
  {
   "cell_type": "markdown",
   "id": "9b47c1c8",
   "metadata": {},
   "source": [
    "5. Integers Come In All Sizes"
   ]
  },
  {
   "cell_type": "code",
   "execution_count": 12,
   "id": "ddf317f8",
   "metadata": {},
   "outputs": [
    {
     "name": "stdout",
     "output_type": "stream",
     "text": [
      "9\n",
      "29\n",
      "7\n",
      "27\n",
      "4710194409608608369201743232\n"
     ]
    }
   ],
   "source": [
    "A = int(input())\n",
    "B = int(input())\n",
    "C = int(input())\n",
    "D = int(input())\n",
    "\n",
    "print((A**B)+(C**D))"
   ]
  },
  {
   "cell_type": "markdown",
   "id": "c24db184",
   "metadata": {},
   "source": [
    "6.Triangle Quest\n",
    "\n",
    "You are given a positive integer N . Print a numerical triangle of height N-1  like the one below:"
   ]
  },
  {
   "cell_type": "code",
   "execution_count": 13,
   "id": "dcf190e0",
   "metadata": {},
   "outputs": [
    {
     "name": "stdout",
     "output_type": "stream",
     "text": [
      "5\n",
      "1\n",
      "22\n",
      "333\n",
      "4444\n"
     ]
    }
   ],
   "source": [
    "for i in range(1,int(input())): \n",
    "    print(int(i * 10**i / 9))"
   ]
  },
  {
   "cell_type": "code",
   "execution_count": null,
   "id": "8ae64cc6",
   "metadata": {},
   "outputs": [],
   "source": []
  }
 ],
 "metadata": {
  "kernelspec": {
   "display_name": "Python 3",
   "language": "python",
   "name": "python3"
  },
  "language_info": {
   "codemirror_mode": {
    "name": "ipython",
    "version": 3
   },
   "file_extension": ".py",
   "mimetype": "text/x-python",
   "name": "python",
   "nbconvert_exporter": "python",
   "pygments_lexer": "ipython3",
   "version": "3.8.8"
  }
 },
 "nbformat": 4,
 "nbformat_minor": 5
}
